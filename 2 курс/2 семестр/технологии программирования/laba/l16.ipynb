{
 "cells": [
  {
   "cell_type": "code",
   "execution_count": 8,
   "id": "f9fb26c6",
   "metadata": {},
   "outputs": [
    {
     "data": {
      "text/plain": [
       "array([['Country', 'Region', 'Population', ..., 'Agriculture',\n",
       "        'Industry', 'Service'],\n",
       "       ['Afghanistan ', 'ASIA (EX. NEAR EAST)         ', '31056997', ...,\n",
       "        '0.38', '0.24', '0.38'],\n",
       "       ['Albania ', 'EASTERN EUROPE                     ', '3581655',\n",
       "        ..., '0.232', '0.188', '0.579'],\n",
       "       ...,\n",
       "       ['Yemen ', 'NEAR EAST                          ', '21456188', ...,\n",
       "        '0.135', '0.472', '0.393'],\n",
       "       ['Zambia ', 'SUB-SAHARAN AFRICA                 ', '11502010',\n",
       "        ..., '0.22', '0.29', '0.489'],\n",
       "       ['Zimbabwe ', 'SUB-SAHARAN AFRICA                 ', '12236805',\n",
       "        ..., '0.179', '0.243', '0.579']], dtype='<U35')"
      ]
     },
     "metadata": {},
     "output_type": "display_data"
    }
   ],
   "source": [
    "data_array = np.loadtxt(\"countries_of_the_world.csv\", delimiter=\",\", dtype=str)\n",
    "display(data_array)"
   ]
  },
  {
   "cell_type": "code",
   "execution_count": 10,
   "id": "acec044c",
   "metadata": {},
   "outputs": [],
   "source": [
    "import numpy as np"
   ]
  },
  {
   "cell_type": "code",
   "execution_count": 11,
   "id": "786652d5",
   "metadata": {
    "ExecuteTime": {
     "end_time": "2023-05-18T19:29:12.552988300Z",
     "start_time": "2023-05-18T19:29:11.871216100Z"
    }
   },
   "outputs": [
    {
     "ename": "AttributeError",
     "evalue": "'DataParser' object has no attribute 'path'",
     "output_type": "error",
     "traceback": [
      "\u001B[1;31m---------------------------------------------------------------------------\u001B[0m",
      "\u001B[1;31mAttributeError\u001B[0m                            Traceback (most recent call last)",
      "Cell \u001B[1;32mIn[11], line 9\u001B[0m\n\u001B[0;32m      6\u001B[0m     \u001B[38;5;28;01mdef\u001B[39;00m \u001B[38;5;21mget_data\u001B[39m(\u001B[38;5;28mself\u001B[39m):\n\u001B[0;32m      7\u001B[0m         display(\u001B[38;5;28mself\u001B[39m\u001B[38;5;241m.\u001B[39mdata_array)\n\u001B[1;32m----> 9\u001B[0m display(\u001B[43mDataParser\u001B[49m\u001B[43m(\u001B[49m\u001B[43m)\u001B[49m\u001B[38;5;241;43m.\u001B[39;49m\u001B[43mpath\u001B[49m)\n",
      "\u001B[1;31mAttributeError\u001B[0m: 'DataParser' object has no attribute 'path'"
     ]
    }
   ],
   "source": [
    "class DataParser:\n",
    "    def __int__(self, file_path = \"countries_of_the_world.csv\", delimiter = \",\"):\n",
    "        self.file_path = file_path\n",
    "        self.data_array = np.loadtxt(file_path, delimiter=delimiter, dtype=str)\n",
    "\n",
    "    def get_data(self):\n",
    "        display(self.data_array)\n",
    "\n",
    "display(DataParser().path)\n"
   ]
  },
  {
   "cell_type": "code",
   "execution_count": null,
   "id": "5c5ab795",
   "metadata": {},
   "outputs": [],
   "source": []
  }
 ],
 "metadata": {
  "kernelspec": {
   "display_name": "Python 3 (ipykernel)",
   "language": "python",
   "name": "python3"
  },
  "language_info": {
   "codemirror_mode": {
    "name": "ipython",
    "version": 3
   },
   "file_extension": ".py",
   "mimetype": "text/x-python",
   "name": "python",
   "nbconvert_exporter": "python",
   "pygments_lexer": "ipython3",
   "version": "3.10.9"
  }
 },
 "nbformat": 4,
 "nbformat_minor": 5
}
